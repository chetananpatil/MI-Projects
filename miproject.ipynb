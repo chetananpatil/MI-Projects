{
 "cells": [
  {
   "cell_type": "code",
   "execution_count": 2,
   "metadata": {
    "_cell_guid": "b1076dfc-b9ad-4769-8c92-a6c4dae69d19",
    "_uuid": "8f2839f25d086af736a60e9eeb907d3b93b6e0e5",
    "execution": {
     "iopub.execute_input": "2022-11-13T12:24:20.603687Z",
     "iopub.status.busy": "2022-11-13T12:24:20.602881Z",
     "iopub.status.idle": "2022-11-13T12:24:20.631925Z",
     "shell.execute_reply": "2022-11-13T12:24:20.630694Z",
     "shell.execute_reply.started": "2022-11-13T12:24:20.603650Z"
    }
   },
   "outputs": [],
   "source": [
    "# This Python 3 environment comes with many helpful analytics libraries installed\n",
    "# It is defined by the kaggle/python Docker image: https://github.com/kaggle/docker-python\n",
    "# For example, here's several helpful packages to load\n",
    "\n",
    "import numpy as np # linear algebra\n",
    "import pandas as pd # data processing, CSV file I/O (e.g. pd.read_csv)\n",
    "\n",
    "# Input data files are available in the read-only \"../input/\" directory\n",
    "# For example, running this (by clicking run or pressing Shift+Enter) will list all files under the input directory\n",
    "\n",
    "import os\n",
    "for dirname, _, filenames in os.walk('/kaggle/input'):\n",
    "    for filename in filenames:\n",
    "        print(os.path.join(dirname, filename))\n",
    "\n",
    "# You can write up to 20GB to the current directory (/kaggle/working/) that gets preserved as output when you create a version using \"Save & Run All\" \n",
    "# You can also write temporary files to /kaggle/temp/, but they won't be saved outside of the current session"
   ]
  },
  {
   "cell_type": "code",
   "execution_count": 3,
   "metadata": {
    "execution": {
     "iopub.execute_input": "2022-11-13T12:24:20.634588Z",
     "iopub.status.busy": "2022-11-13T12:24:20.634186Z",
     "iopub.status.idle": "2022-11-13T12:24:20.642401Z",
     "shell.execute_reply": "2022-11-13T12:24:20.641140Z",
     "shell.execute_reply.started": "2022-11-13T12:24:20.634485Z"
    }
   },
   "outputs": [
    {
     "name": "stdout",
     "output_type": "stream",
     "text": [
      "Requirement already satisfied: catboost in c:\\users\\chetana\\anaconda3\\lib\\site-packages (1.1.1)\n",
      "Requirement already satisfied: plotly in c:\\users\\chetana\\anaconda3\\lib\\site-packages (from catboost) (5.9.0)\n",
      "Requirement already satisfied: graphviz in c:\\users\\chetana\\anaconda3\\lib\\site-packages (from catboost) (0.20.1)\n",
      "Requirement already satisfied: scipy in c:\\users\\chetana\\anaconda3\\lib\\site-packages (from catboost) (1.7.1)\n",
      "Requirement already satisfied: matplotlib in c:\\users\\chetana\\anaconda3\\lib\\site-packages (from catboost) (3.4.3)\n",
      "Requirement already satisfied: pandas>=0.24.0 in c:\\users\\chetana\\anaconda3\\lib\\site-packages (from catboost) (1.3.4)\n",
      "Requirement already satisfied: six in c:\\users\\chetana\\anaconda3\\lib\\site-packages (from catboost) (1.16.0)\n",
      "Requirement already satisfied: numpy>=1.16.0 in c:\\users\\chetana\\anaconda3\\lib\\site-packages (from catboost) (1.22.4)\n",
      "Requirement already satisfied: python-dateutil>=2.7.3 in c:\\users\\chetana\\anaconda3\\lib\\site-packages (from pandas>=0.24.0->catboost) (2.8.2)\n",
      "Requirement already satisfied: pytz>=2017.3 in c:\\users\\chetana\\anaconda3\\lib\\site-packages (from pandas>=0.24.0->catboost) (2021.3)\n",
      "Requirement already satisfied: kiwisolver>=1.0.1 in c:\\users\\chetana\\anaconda3\\lib\\site-packages (from matplotlib->catboost) (1.3.1)\n",
      "Requirement already satisfied: cycler>=0.10 in c:\\users\\chetana\\anaconda3\\lib\\site-packages (from matplotlib->catboost) (0.10.0)\n",
      "Requirement already satisfied: pyparsing>=2.2.1 in c:\\users\\chetana\\anaconda3\\lib\\site-packages (from matplotlib->catboost) (3.0.4)\n",
      "Requirement already satisfied: pillow>=6.2.0 in c:\\users\\chetana\\anaconda3\\lib\\site-packages (from matplotlib->catboost) (8.4.0)\n",
      "Requirement already satisfied: tenacity>=6.2.0 in c:\\users\\chetana\\anaconda3\\lib\\site-packages (from plotly->catboost) (8.0.1)\n"
     ]
    }
   ],
   "source": [
    "!pip install catboost\n",
    "import matplotlib.pyplot as plt\n",
    "import numpy as np\n",
    "from keras.models import Sequential\n",
    "from keras.layers import Dense, Flatten, Conv2D, MaxPool2D, Dropout\n",
    "from tensorflow.keras.optimizers import Adam,SGD\n",
    "from keras.callbacks import ReduceLROnPlateau, EarlyStopping\n",
    "from tensorflow.keras.utils import to_categorical\n",
    "import pandas as pd\n",
    "import numpy as np\n",
    "from sklearn.model_selection import train_test_split\n",
    "from sklearn.utils import shuffle\n",
    "import catboost as cb\n",
    "from tensorflow.keras.layers import Conv2D, BatchNormalization, MaxPooling2D, Dropout, Flatten, Dense"
   ]
  },
  {
   "cell_type": "code",
   "execution_count": 4,
   "metadata": {},
   "outputs": [
    {
     "name": "stdout",
     "output_type": "stream",
     "text": [
      "Requirement already satisfied: opencv-python in c:\\users\\chetana\\anaconda3\\lib\\site-packages (4.6.0.66)\n",
      "Requirement already satisfied: numpy>=1.19.3 in c:\\users\\chetana\\anaconda3\\lib\\site-packages (from opencv-python) (1.22.4)\n",
      "Note: you may need to restart the kernel to use updated packages.\n"
     ]
    }
   ],
   "source": [
    "pip install opencv-python "
   ]
  },
  {
   "cell_type": "code",
   "execution_count": 5,
   "metadata": {
    "scrolled": true
   },
   "outputs": [],
   "source": [
    "import cv2"
   ]
  },
  {
   "cell_type": "code",
   "execution_count": 6,
   "metadata": {
    "execution": {
     "iopub.execute_input": "2022-11-13T12:24:20.644768Z",
     "iopub.status.busy": "2022-11-13T12:24:20.644448Z",
     "iopub.status.idle": "2022-11-13T12:24:47.781436Z",
     "shell.execute_reply": "2022-11-13T12:24:47.780480Z",
     "shell.execute_reply.started": "2022-11-13T12:24:20.644739Z"
    }
   },
   "outputs": [
    {
     "name": "stdout",
     "output_type": "stream",
     "text": [
      "     0  0.1  0.2  0.3  0.4  0.5  0.6  0.7  0.8  0.9  ...  0.639  0.640  0.641  \\\n",
      "0  0.0  0.0  0.0  0.0  0.0  0.0  0.0  0.0  0.0  0.0  ...    0.0    0.0    0.0   \n",
      "1  0.0  0.0  0.0  0.0  0.0  0.0  0.0  0.0  0.0  0.0  ...    0.0    0.0    0.0   \n",
      "2  0.0  0.0  0.0  0.0  0.0  0.0  0.0  0.0  0.0  0.0  ...    0.0    0.0    0.0   \n",
      "3  0.0  0.0  0.0  0.0  0.0  0.0  0.0  0.0  0.0  0.0  ...    0.0    0.0    0.0   \n",
      "4  0.0  0.0  0.0  0.0  0.0  0.0  0.0  0.0  0.0  0.0  ...    0.0    0.0    0.0   \n",
      "5  0.0  0.0  0.0  0.0  0.0  0.0  0.0  0.0  0.0  0.0  ...    0.0    0.0    0.0   \n",
      "6  0.0  0.0  0.0  0.0  0.0  0.0  0.0  0.0  0.0  0.0  ...    0.0    0.0    0.0   \n",
      "7  0.0  0.0  0.0  0.0  0.0  0.0  0.0  0.0  0.0  0.0  ...    0.0    0.0    0.0   \n",
      "8  0.0  0.0  0.0  0.0  0.0  0.0  0.0  0.0  0.0  0.0  ...    0.0    0.0    0.0   \n",
      "9  0.0  0.0  0.0  0.0  0.0  0.0  0.0  0.0  0.0  0.0  ...    0.0    0.0    0.0   \n",
      "\n",
      "   0.642  0.643  0.644  0.645  0.646  0.647  0.648  \n",
      "0    0.0    0.0    0.0    0.0    0.0    0.0    0.0  \n",
      "1    0.0    0.0    0.0    0.0    0.0    0.0    0.0  \n",
      "2    0.0    0.0    0.0    0.0    0.0    0.0    0.0  \n",
      "3    0.0    0.0    0.0    0.0    0.0    0.0    0.0  \n",
      "4    0.0    0.0    0.0    0.0    0.0    0.0    0.0  \n",
      "5    0.0    0.0    0.0    0.0    0.0    0.0    0.0  \n",
      "6    0.0    0.0    0.0    0.0    0.0    0.0    0.0  \n",
      "7    0.0    0.0    0.0    0.0    0.0    0.0    0.0  \n",
      "8    0.0    0.0    0.0    0.0    0.0    0.0    0.0  \n",
      "9    0.0    0.0    0.0    0.0    0.0    0.0    0.0  \n",
      "\n",
      "[10 rows x 785 columns]\n"
     ]
    }
   ],
   "source": [
    "data = pd.read_csv(r\"A_Z Handwritten Data.csv\").astype('float32')\n",
    "print(data.head(10))"
   ]
  },
  {
   "cell_type": "code",
   "execution_count": 7,
   "metadata": {
    "execution": {
     "iopub.execute_input": "2022-11-13T12:24:47.784111Z",
     "iopub.status.busy": "2022-11-13T12:24:47.783317Z",
     "iopub.status.idle": "2022-11-13T12:24:48.142266Z",
     "shell.execute_reply": "2022-11-13T12:24:48.141007Z",
     "shell.execute_reply.started": "2022-11-13T12:24:47.784070Z"
    }
   },
   "outputs": [],
   "source": [
    "X = data.drop('0',axis = 1)\n",
    "y = data['0']"
   ]
  },
  {
   "cell_type": "code",
   "execution_count": 8,
   "metadata": {
    "execution": {
     "iopub.execute_input": "2022-11-13T12:24:48.144100Z",
     "iopub.status.busy": "2022-11-13T12:24:48.143726Z",
     "iopub.status.idle": "2022-11-13T12:24:49.715845Z",
     "shell.execute_reply": "2022-11-13T12:24:49.714681Z",
     "shell.execute_reply.started": "2022-11-13T12:24:48.144066Z"
    }
   },
   "outputs": [
    {
     "name": "stdout",
     "output_type": "stream",
     "text": [
      "Train data shape:  (297960, 28, 28)\n",
      "Test data shape:  (74490, 28, 28)\n"
     ]
    }
   ],
   "source": [
    "train_x, test_x, train_y, test_y = train_test_split(X, y, test_size = 0.2)\n",
    "\n",
    "train_x = np.reshape(train_x.values, (train_x.shape[0], 28,28))\n",
    "test_x = np.reshape(test_x.values, (test_x.shape[0], 28,28))\n",
    "\n",
    "print(\"Train data shape: \", train_x.shape)\n",
    "print(\"Test data shape: \", test_x.shape)"
   ]
  },
  {
   "cell_type": "code",
   "execution_count": 9,
   "metadata": {
    "execution": {
     "iopub.execute_input": "2022-11-13T12:24:49.717919Z",
     "iopub.status.busy": "2022-11-13T12:24:49.717518Z",
     "iopub.status.idle": "2022-11-13T12:24:49.724260Z",
     "shell.execute_reply": "2022-11-13T12:24:49.723084Z",
     "shell.execute_reply.started": "2022-11-13T12:24:49.717886Z"
    }
   },
   "outputs": [],
   "source": [
    "word_dict = {0:'A',1:'B',2:'C',3:'D',4:'E',5:'F',6:'G',7:'H',8:'I',9:'J',10:'K',11:'L',12:'M',13:'N',14:'O',15:'P',16:'Q',17:'R',18:'S',19:'T',20:'U',21:'V',22:'W',23:'X', 24:'Y',25:'Z'}"
   ]
  },
  {
   "cell_type": "code",
   "execution_count": 10,
   "metadata": {
    "execution": {
     "iopub.execute_input": "2022-11-13T12:24:49.726739Z",
     "iopub.status.busy": "2022-11-13T12:24:49.725647Z",
     "iopub.status.idle": "2022-11-13T12:24:50.287503Z",
     "shell.execute_reply": "2022-11-13T12:24:50.286363Z",
     "shell.execute_reply.started": "2022-11-13T12:24:49.726705Z"
    }
   },
   "outputs": [
    {
     "data": {
      "image/png": "[encoded data removed]",
      "text/plain": [
       "<Figure size 720x720 with 1 Axes>"
      ]
     },
     "metadata": {
      "needs_background": "light"
     },
     "output_type": "display_data"
    }
   ],
   "source": [
    "y_int = np.int0(y)\n",
    "count = np.zeros(26, dtype='int')\n",
    "for i in y_int:\n",
    "    count[i] +=1\n",
    "\n",
    "alphabets = []\n",
    "for i in word_dict.values():\n",
    "    alphabets.append(i)\n",
    "\n",
    "fig, ax = plt.subplots(1,1, figsize=(10,10))\n",
    "ax.barh(alphabets, count)\n",
    "\n",
    "plt.xlabel(\"Number of elements \")\n",
    "plt.ylabel(\"Alphabets\")\n",
    "plt.grid()\n",
    "plt.show()"
   ]
  },
  {
   "cell_type": "code",
   "execution_count": 11,
   "metadata": {
    "execution": {
     "iopub.execute_input": "2022-11-13T12:24:50.290966Z",
     "iopub.status.busy": "2022-11-13T12:24:50.290648Z",
     "iopub.status.idle": "2022-11-13T12:24:51.149073Z",
     "shell.execute_reply": "2022-11-13T12:24:51.147888Z",
     "shell.execute_reply.started": "2022-11-13T12:24:50.290938Z"
    }
   },
   "outputs": [
    {
     "data": {
      "image/png": "[encoded data removed]",
      "text/plain": [
       "<Figure size 720x720 with 9 Axes>"
      ]
     },
     "metadata": {
      "needs_background": "light"
     },
     "output_type": "display_data"
    }
   ],
   "source": [
    "shuff = shuffle(train_x[:100])\n",
    "\n",
    "fig, ax = plt.subplots(3,3, figsize = (10,10))\n",
    "axes = ax.flatten()\n",
    "\n",
    "for i in range(9):\n",
    "    _, shu = cv2.threshold(shuff[i], 30, 200, cv2.THRESH_BINARY)\n",
    "    axes[i].imshow(np.reshape(shuff[i], (28,28)), cmap=\"Greys\")\n",
    "plt.show()"
   ]
  },
  {
   "cell_type": "code",
   "execution_count": 12,
   "metadata": {
    "execution": {
     "iopub.execute_input": "2022-11-13T12:24:51.150909Z",
     "iopub.status.busy": "2022-11-13T12:24:51.150542Z",
     "iopub.status.idle": "2022-11-13T12:24:51.159311Z",
     "shell.execute_reply": "2022-11-13T12:24:51.157851Z",
     "shell.execute_reply.started": "2022-11-13T12:24:51.150878Z"
    }
   },
   "outputs": [
    {
     "name": "stdout",
     "output_type": "stream",
     "text": [
      "New shape of train data:  (297960, 28, 28, 1)\n",
      "New shape of train data:  (74490, 28, 28, 1)\n"
     ]
    }
   ],
   "source": [
    "train_X = train_x.reshape(train_x.shape[0],train_x.shape[1],train_x.shape[2],1)\n",
    "print(\"New shape of train data: \", train_X.shape)\n",
    "\n",
    "test_X = test_x.reshape(test_x.shape[0], test_x.shape[1], test_x.shape[2],1)\n",
    "print(\"New shape of train data: \", test_X.shape)"
   ]
  },
  {
   "cell_type": "code",
   "execution_count": 13,
   "metadata": {
    "execution": {
     "iopub.execute_input": "2022-11-13T12:24:51.161153Z",
     "iopub.status.busy": "2022-11-13T12:24:51.160785Z",
     "iopub.status.idle": "2022-11-13T12:24:51.194965Z",
     "shell.execute_reply": "2022-11-13T12:24:51.193933Z",
     "shell.execute_reply.started": "2022-11-13T12:24:51.161114Z"
    }
   },
   "outputs": [
    {
     "name": "stdout",
     "output_type": "stream",
     "text": [
      "New shape of train lables:  (297960, 26)\n",
      "New shape of test lables:  (74490, 26)\n"
     ]
    }
   ],
   "source": [
    "train_yOHE=to_categorical(train_y,num_classes=26,dtype='int')\n",
    "print(\"New shape of train lables: \", train_yOHE.shape)\n",
    "test_yOHE=to_categorical(test_y,num_classes=26,dtype='int')\n",
    "print(\"New shape of test lables: \", test_yOHE.shape)"
   ]
  },
  {
   "cell_type": "code",
   "execution_count": 14,
   "metadata": {
    "execution": {
     "iopub.execute_input": "2022-11-13T12:24:51.197109Z",
     "iopub.status.busy": "2022-11-13T12:24:51.196491Z",
     "iopub.status.idle": "2022-11-13T12:24:51.283566Z",
     "shell.execute_reply": "2022-11-13T12:24:51.282361Z",
     "shell.execute_reply.started": "2022-11-13T12:24:51.197073Z"
    }
   },
   "outputs": [],
   "source": [
    "model = Sequential()\n",
    "\n",
    "model.add(Conv2D(filters=32, kernel_size=(3, 3), activation='relu', input_shape=(28,28,1)))\n",
    "model.add(MaxPool2D(pool_size=(2, 2), strides=2))\n",
    "\n",
    "model.add(Conv2D(filters=64, kernel_size=(3, 3), activation='relu', padding = 'same'))\n",
    "model.add(MaxPool2D(pool_size=(2, 2), strides=2))\n",
    "\n",
    "model.add(Conv2D(filters=128, kernel_size=(3, 3), activation='relu', padding = 'valid'))\n",
    "model.add(MaxPool2D(pool_size=(2, 2), strides=2))\n",
    "\n",
    "model.add(Flatten())\n",
    "\n",
    "model.add(Dense(64,activation =\"relu\"))\n",
    "model.add(Dense(128,activation =\"relu\"))\n",
    "\n",
    "model.add(Dense(26,activation =\"softmax\"))"
   ]
  },
  {
   "cell_type": "code",
   "execution_count": 15,
   "metadata": {
    "execution": {
     "iopub.execute_input": "2022-11-13T12:24:51.285993Z",
     "iopub.status.busy": "2022-11-13T12:24:51.285643Z",
     "iopub.status.idle": "2022-11-13T12:27:54.314030Z",
     "shell.execute_reply": "2022-11-13T12:27:54.312872Z",
     "shell.execute_reply.started": "2022-11-13T12:24:51.285959Z"
    }
   },
   "outputs": [
    {
     "name": "stdout",
     "output_type": "stream",
     "text": [
      "9312/9312 [==============================] - 191s 20ms/step - loss: 0.1509 - accuracy: 0.9584 - val_loss: 0.0790 - val_accuracy: 0.9783\n"
     ]
    }
   ],
   "source": [
    "model.compile(optimizer = Adam(learning_rate=0.001), loss='categorical_crossentropy', metrics=['accuracy'])\n",
    "history = model.fit(train_X, train_yOHE, epochs=1,  validation_data = (test_X,test_yOHE))"
   ]
  },
  {
   "cell_type": "markdown",
   "metadata": {
    "execution": {
     "iopub.execute_input": "2022-11-13T12:27:54.316083Z",
     "iopub.status.busy": "2022-11-13T12:27:54.315728Z",
     "iopub.status.idle": "2022-11-13T12:27:54.357701Z",
     "shell.execute_reply": "2022-11-13T12:27:54.356379Z",
     "shell.execute_reply.started": "2022-11-13T12:27:54.316041Z"
    }
   },
   "source": [
    "# model.summary()\n",
    "model.save(r'model_hand.h5')"
   ]
  },
  {
   "cell_type": "code",
   "execution_count": 16,
   "metadata": {
    "execution": {
     "iopub.execute_input": "2022-11-13T12:27:54.359481Z",
     "iopub.status.busy": "2022-11-13T12:27:54.359152Z",
     "iopub.status.idle": "2022-11-13T12:27:54.367179Z",
     "shell.execute_reply": "2022-11-13T12:27:54.365890Z",
     "shell.execute_reply.started": "2022-11-13T12:27:54.359450Z"
    }
   },
   "outputs": [
    {
     "name": "stdout",
     "output_type": "stream",
     "text": [
      "The validation accuracy is : [0.9782789349555969]\n",
      "The training accuracy is : [0.9584239721298218]\n",
      "The validation loss is : [0.07900279760360718]\n",
      "The training loss is : [0.15087659657001495]\n"
     ]
    }
   ],
   "source": [
    "print(\"The validation accuracy is :\", history.history['val_accuracy'])\n",
    "print(\"The training accuracy is :\", history.history['accuracy'])\n",
    "print(\"The validation loss is :\", history.history['val_loss'])\n",
    "print(\"The training loss is :\", history.history['loss'])"
   ]
  },
  {
   "cell_type": "code",
   "execution_count": 17,
   "metadata": {
    "execution": {
     "iopub.execute_input": "2022-11-13T12:27:54.369692Z",
     "iopub.status.busy": "2022-11-13T12:27:54.369326Z",
     "iopub.status.idle": "2022-11-13T12:27:55.431924Z",
     "shell.execute_reply": "2022-11-13T12:27:55.430835Z",
     "shell.execute_reply.started": "2022-11-13T12:27:54.369659Z"
    }
   },
   "outputs": [
    {
     "data": {
      "image/png": "[encoded data removed]",
      "text/plain": [
       "<Figure size 576x648 with 9 Axes>"
      ]
     },
     "metadata": {
      "needs_background": "light"
     },
     "output_type": "display_data"
    }
   ],
   "source": [
    "fig, axes = plt.subplots(3,3, figsize=(8,9))\n",
    "axes = axes.flatten()\n",
    "\n",
    "for i,ax in enumerate(axes):\n",
    "    img = np.reshape(test_X[i], (28,28))\n",
    "    ax.imshow(img, cmap=\"Greys\")\n",
    "    \n",
    "    pred = word_dict[np.argmax(test_yOHE[i])]\n",
    "    ax.set_title(\"Prediction: \"+pred)\n",
    "    ax.grid()"
   ]
  },
  {
   "cell_type": "code",
   "execution_count": null,
   "metadata": {
    "execution": {
     "iopub.execute_input": "2022-11-13T15:35:54.128886Z",
     "iopub.status.busy": "2022-11-13T15:35:54.128437Z",
     "iopub.status.idle": "2022-11-13T15:35:54.149456Z",
     "shell.execute_reply": "2022-11-13T15:35:54.147452Z",
     "shell.execute_reply.started": "2022-11-13T15:35:54.128852Z"
    }
   },
   "outputs": [],
   "source": [
    "img = cv2.imread(r'C.png')\n",
    "img_copy = img.copy()\n",
    "img = cv2.cvtColor(img, cv2.COLOR_BGR2RGB)\n",
    "img = cv2.resize(img, (400,440))"
   ]
  },
  {
   "cell_type": "code",
   "execution_count": 19,
   "metadata": {},
   "outputs": [],
   "source": [
    "img_copy = cv2.GaussianBlur(img_copy, (7,7), 0)\n",
    "img_gray = cv2.cvtColor(img_copy, cv2.COLOR_BGR2GRAY)\n",
    "_, img_thresh = cv2.threshold(img_gray, 100, 255, cv2.THRESH_BINARY_INV)\n",
    "\n",
    "img_final = cv2.resize(img_thresh, (28,28))\n",
    "img_final =np.reshape(img_final, (1,28,28,1))"
   ]
  },
  {
   "cell_type": "code",
   "execution_count": 20,
   "metadata": {},
   "outputs": [
    {
     "name": "stdout",
     "output_type": "stream",
     "text": [
      "1/1 [==============================] - 0s 91ms/step\n"
     ]
    }
   ],
   "source": [
    "img_pred = word_dict[np.argmax(model.predict(img_final))]\n",
    "\n",
    "cv2.putText(img, \"Dataflair _ _ _ \", (20,25), cv2.FONT_HERSHEY_TRIPLEX, 0.7, color = (0,0,230))\n",
    "cv2.putText(img, \"Prediction: \" + img_pred, (20,410), cv2.FONT_HERSHEY_DUPLEX, 1.3, color = (255,0,30))\n",
    "cv2.imshow('Dataflair handwritten character recognition _ _ _ ', img)"
   ]
  },
  {
   "cell_type": "code",
   "execution_count": null,
   "metadata": {},
   "outputs": [],
   "source": [
    "while (1):\n",
    "    k = cv2.waitKey(1) & 0xFF\n",
    "    if k == 27:\n",
    "        break\n",
    "cv2.destroyAllWindows()"
   ]
  },
  {
   "cell_type": "code",
   "execution_count": null,
   "metadata": {},
   "outputs": [],
   "source": []
  }
 ],
 "metadata": {
  "kernelspec": {
   "display_name": "Python 3 (ipykernel)",
   "language": "python",
   "name": "python3"
  },
  "language_info": {
   "codemirror_mode": {
    "name": "ipython",
    "version": 3
   },
   "file_extension": ".py",
   "mimetype": "text/x-python",
   "name": "python",
   "nbconvert_exporter": "python",
   "pygments_lexer": "ipython3",
   "version": "3.9.7"
  }
 },
 "nbformat": 4,
 "nbformat_minor": 4
}
